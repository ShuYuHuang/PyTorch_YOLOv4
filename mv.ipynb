{
 "cells": [
  {
   "cell_type": "code",
   "execution_count": 1,
   "id": "5cfbe149",
   "metadata": {},
   "outputs": [],
   "source": [
    "import os\n",
    "import random\n",
    "import shutil"
   ]
  },
  {
   "cell_type": "code",
   "execution_count": 2,
   "id": "4e6efca7",
   "metadata": {},
   "outputs": [],
   "source": [
    "img_path = 'valid/images'\n",
    "label_path = 'valid/labels'\n",
    "out_img_path = 'train/images'\n",
    "out_label_path = 'train/labels'\n",
    "\n",
    "img_path_list = []\n",
    "for roots, dirs, files in os.walk(img_path):\n",
    "    for each in files:\n",
    "        if each.find('checkpoint') == -1:\n",
    "            path = os.path.join(roots, each)\n",
    "            img_path_list.append(path)"
   ]
  },
  {
   "cell_type": "code",
   "execution_count": 3,
   "id": "b7b81018",
   "metadata": {},
   "outputs": [],
   "source": [
    "img_path_list = sorted(img_path_list)\n",
    "random.seed(2022)\n",
    "random.shuffle(img_path_list)"
   ]
  },
  {
   "cell_type": "code",
   "execution_count": 4,
   "id": "38275ff9",
   "metadata": {},
   "outputs": [],
   "source": [
    "for i in range(len(img_path_list)):\n",
    "    if i > len(img_path_list)/10:\n",
    "        img_path = os.path.join(out_img_path, img_path_list[i].split('/')[-1])\n",
    "        label_path_1 = os.path.join(out_label_path, img_path_list[i].split('/')[-1][:-3]+'txt')\n",
    "        shutil.move(img_path_list[i], img_path)\n",
    "        shutil.move(os.path.join(label_path, img_path_list[i].split('/')[-1][:-3]+'txt'), label_path_1)"
   ]
  },
  {
   "cell_type": "markdown",
   "id": "c3f0a168",
   "metadata": {},
   "source": [
    "## rename"
   ]
  },
  {
   "cell_type": "code",
   "execution_count": 3,
   "id": "6d9467b8",
   "metadata": {},
   "outputs": [],
   "source": [
    "img_path = 'valid/images'\n",
    "label_path = 'valid/labels'\n",
    "img_list = []\n",
    "lab_list = []\n",
    "for roots, dirs, files in os.walk(img_path):\n",
    "    for each in files:\n",
    "        if each.find('checkpoint') == -1:\n",
    "            old = os.path.join(roots, each)\n",
    "            new = os.path.join(roots, each.split('.')[0][:-4])+'.jpg'\n",
    "            os.rename(old, new)\n",
    "            \n",
    "for roots, dirs, files in os.walk(label_path):\n",
    "    for each in files:\n",
    "        if each.find('checkpoint') == -1:\n",
    "            old = os.path.join(roots, each)\n",
    "            new = os.path.join(roots, each.split('.')[0][:-4])+'.txt'\n",
    "            os.rename(old, new)"
   ]
  }
 ],
 "metadata": {
  "kernelspec": {
   "display_name": "Python 3 (ipykernel)",
   "language": "python",
   "name": "python3"
  },
  "language_info": {
   "codemirror_mode": {
    "name": "ipython",
    "version": 3
   },
   "file_extension": ".py",
   "mimetype": "text/x-python",
   "name": "python",
   "nbconvert_exporter": "python",
   "pygments_lexer": "ipython3",
   "version": "3.7.10"
  }
 },
 "nbformat": 4,
 "nbformat_minor": 5
}
