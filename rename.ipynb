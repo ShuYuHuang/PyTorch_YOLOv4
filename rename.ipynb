{
 "cells": [
  {
   "cell_type": "code",
   "execution_count": 1,
   "id": "f7774a63",
   "metadata": {},
   "outputs": [],
   "source": [
    "import os"
   ]
  },
  {
   "cell_type": "code",
   "execution_count": 3,
   "id": "86dad7a0",
   "metadata": {},
   "outputs": [],
   "source": [
    "img_path = 'valid/images'\n",
    "label_path = 'valid/labels'\n",
    "img_list = []\n",
    "lab_list = []\n",
    "for roots, dirs, files in os.walk(img_path):\n",
    "    for each in files:\n",
    "        if each.find('checkpoint') == -1:\n",
    "            old = os.path.join(roots, each)\n",
    "            new = os.path.join(roots, each.split('.')[0][:-4])+'.jpg'\n",
    "            os.rename(old, new)\n",
    "            \n",
    "for roots, dirs, files in os.walk(label_path):\n",
    "    for each in files:\n",
    "        if each.find('checkpoint') == -1:\n",
    "            old = os.path.join(roots, each)\n",
    "            new = os.path.join(roots, each.split('.')[0][:-4])+'.txt'\n",
    "            os.rename(old, new)"
   ]
  },
  {
   "cell_type": "code",
   "execution_count": null,
   "id": "97060b83",
   "metadata": {},
   "outputs": [],
   "source": []
  }
 ],
 "metadata": {
  "kernelspec": {
   "display_name": "Python 3 (ipykernel)",
   "language": "python",
   "name": "python3"
  },
  "language_info": {
   "codemirror_mode": {
    "name": "ipython",
    "version": 3
   },
   "file_extension": ".py",
   "mimetype": "text/x-python",
   "name": "python",
   "nbconvert_exporter": "python",
   "pygments_lexer": "ipython3",
   "version": "3.7.10"
  }
 },
 "nbformat": 4,
 "nbformat_minor": 5
}
